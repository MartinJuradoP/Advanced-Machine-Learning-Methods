{
 "cells": [
  {
   "cell_type": "markdown",
   "metadata": {},
   "source": [
    "# TC 5033\n",
    "## Deep Learning\n",
    "## Fully Connected Deep Neural Networks\n",
    "\n",
    "#### Activity 1b: Implementing a Fully Connected Network for Kaggle ASL Dataset\n",
    "\n",
    "- Objective\n",
    "\n",
    "The aim of this part of the activity is to apply your understanding of Fully Connected Networks by implementing a multilayer network for the [Kaggle ASL (American Sign Language) dataset](https://www.kaggle.com/datasets/grassknoted/asl-alphabet). While you have been provided with a complete solution for a Fully Connected Network using Numpy for the MNIST dataset, you are encouraged to try to come up with the solution.\n",
    "\n",
    "- Instructions\n",
    "\n",
    "    This activity requires submission in teams of 3 or 4 members. Submissions from smaller or larger teams will not be accepted unless prior approval has been granted (only due to exceptional circumstances). While teamwork is encouraged, each member is expected to contribute individually to the assignment. The final submission should feature the best arguments and solutions from each team member. Only one person per team needs to submit the completed work, but it is imperative that the names of all team members are listed in a Markdown cell at the very beginning of the notebook (either the first or second cell). Failure to include all team member names will result in the grade being awarded solely to the individual who submitted the assignment, with zero points given to other team members (no exceptions will be made to this rule).\n",
    "\n",
    "    Load and Preprocess Data: You are provided a starter code to load the data. Be sure to understand the code.\n",
    "\n",
    "    Review MNIST Notebook (Optional): Before diving into this activity, you have the option to revisit the MNIST example to refresh your understanding of how to build a Fully Connected Network using Numpy.\n",
    "\n",
    "    Start Fresh: Although you can refer to the MNIST solution at any point, try to implement the network for the ASL dataset on your own. This will reinforce your learning and understanding of the architecture and mathematics involved.\n",
    "\n",
    "    Implement Forward and Backward Pass: Write the code to perform the forward and backward passes, keeping in mind the specific challenges and characteristics of the ASL dataset.\n",
    "    \n",
    "     Design the Network: Create the architecture of the Fully Connected Network tailored for the ASL dataset. Choose the number of hidden layers, neurons, and hyperparameters judiciously.\n",
    "\n",
    "    Train the Model: Execute the training loop, ensuring to track performance metrics such as loss and accuracy.\n",
    "\n",
    "    Analyze and Document: Use Markdown cells to document in detail the choices you made in terms of architecture and hyperparameters, you may use figures, equations, etc to aid in your explanations. Include any metrics that help justify these choices and discuss the model's performance.  \n",
    "\n",
    "- Evaluation Criteria\n",
    "\n",
    "    - Code Readability and Comments\n",
    "    - Appropriateness of chosen architecture and hyperparameters for the ASL dataset\n",
    "    - Performance of the model on the ASL dataset (at least 70% acc)\n",
    "    - Quality of Markdown documentation\n",
    "\n",
    "- Submission\n",
    "\n",
    "Submit this Jupyter Notebook in canvas with your complete solution, ensuring your code is well-commented and includes Markdown cells that explain your design choices, results, and any challenges you encountered.\n"
   ]
  },
  {
   "cell_type": "code",
   "execution_count": 1,
   "metadata": {},
   "outputs": [],
   "source": [
    "import numpy as np\n",
    "import string\n",
    "import pandas as pd\n",
    "import matplotlib.pyplot as plt\n",
    "import cv2 as cv\n",
    "import os\n",
    "\n",
    "%load_ext autoreload\n",
    "%autoreload 2\n",
    "#################################\n",
    "%matplotlib inline\n"
   ]
  },
  {
   "cell_type": "code",
   "execution_count": 2,
   "metadata": {},
   "outputs": [],
   "source": [
    "# DATA_PATH = '/media/pepe/DataUbuntu/Databases/asl_data/'\n",
    "DATA_PATH = './asl_data'\n",
    "train_df = pd.read_csv(os.path.join(DATA_PATH, 'sign_mnist_train.csv'))\n",
    "valid_df = pd.read_csv(os.path.join(DATA_PATH, 'sign_mnist_valid.csv'))"
   ]
  },
  {
   "cell_type": "code",
   "execution_count": 3,
   "metadata": {},
   "outputs": [
    {
     "data": {
      "text/html": [
       "<div>\n",
       "<style scoped>\n",
       "    .dataframe tbody tr th:only-of-type {\n",
       "        vertical-align: middle;\n",
       "    }\n",
       "\n",
       "    .dataframe tbody tr th {\n",
       "        vertical-align: top;\n",
       "    }\n",
       "\n",
       "    .dataframe thead th {\n",
       "        text-align: right;\n",
       "    }\n",
       "</style>\n",
       "<table border=\"1\" class=\"dataframe\">\n",
       "  <thead>\n",
       "    <tr style=\"text-align: right;\">\n",
       "      <th></th>\n",
       "      <th>label</th>\n",
       "      <th>pixel1</th>\n",
       "      <th>pixel2</th>\n",
       "      <th>pixel3</th>\n",
       "      <th>pixel4</th>\n",
       "      <th>pixel5</th>\n",
       "      <th>pixel6</th>\n",
       "      <th>pixel7</th>\n",
       "      <th>pixel8</th>\n",
       "      <th>pixel9</th>\n",
       "      <th>...</th>\n",
       "      <th>pixel775</th>\n",
       "      <th>pixel776</th>\n",
       "      <th>pixel777</th>\n",
       "      <th>pixel778</th>\n",
       "      <th>pixel779</th>\n",
       "      <th>pixel780</th>\n",
       "      <th>pixel781</th>\n",
       "      <th>pixel782</th>\n",
       "      <th>pixel783</th>\n",
       "      <th>pixel784</th>\n",
       "    </tr>\n",
       "  </thead>\n",
       "  <tbody>\n",
       "    <tr>\n",
       "      <th>0</th>\n",
       "      <td>3</td>\n",
       "      <td>107</td>\n",
       "      <td>118</td>\n",
       "      <td>127</td>\n",
       "      <td>134</td>\n",
       "      <td>139</td>\n",
       "      <td>143</td>\n",
       "      <td>146</td>\n",
       "      <td>150</td>\n",
       "      <td>153</td>\n",
       "      <td>...</td>\n",
       "      <td>207</td>\n",
       "      <td>207</td>\n",
       "      <td>207</td>\n",
       "      <td>207</td>\n",
       "      <td>206</td>\n",
       "      <td>206</td>\n",
       "      <td>206</td>\n",
       "      <td>204</td>\n",
       "      <td>203</td>\n",
       "      <td>202</td>\n",
       "    </tr>\n",
       "    <tr>\n",
       "      <th>1</th>\n",
       "      <td>6</td>\n",
       "      <td>155</td>\n",
       "      <td>157</td>\n",
       "      <td>156</td>\n",
       "      <td>156</td>\n",
       "      <td>156</td>\n",
       "      <td>157</td>\n",
       "      <td>156</td>\n",
       "      <td>158</td>\n",
       "      <td>158</td>\n",
       "      <td>...</td>\n",
       "      <td>69</td>\n",
       "      <td>149</td>\n",
       "      <td>128</td>\n",
       "      <td>87</td>\n",
       "      <td>94</td>\n",
       "      <td>163</td>\n",
       "      <td>175</td>\n",
       "      <td>103</td>\n",
       "      <td>135</td>\n",
       "      <td>149</td>\n",
       "    </tr>\n",
       "    <tr>\n",
       "      <th>2</th>\n",
       "      <td>2</td>\n",
       "      <td>187</td>\n",
       "      <td>188</td>\n",
       "      <td>188</td>\n",
       "      <td>187</td>\n",
       "      <td>187</td>\n",
       "      <td>186</td>\n",
       "      <td>187</td>\n",
       "      <td>188</td>\n",
       "      <td>187</td>\n",
       "      <td>...</td>\n",
       "      <td>202</td>\n",
       "      <td>201</td>\n",
       "      <td>200</td>\n",
       "      <td>199</td>\n",
       "      <td>198</td>\n",
       "      <td>199</td>\n",
       "      <td>198</td>\n",
       "      <td>195</td>\n",
       "      <td>194</td>\n",
       "      <td>195</td>\n",
       "    </tr>\n",
       "    <tr>\n",
       "      <th>3</th>\n",
       "      <td>2</td>\n",
       "      <td>211</td>\n",
       "      <td>211</td>\n",
       "      <td>212</td>\n",
       "      <td>212</td>\n",
       "      <td>211</td>\n",
       "      <td>210</td>\n",
       "      <td>211</td>\n",
       "      <td>210</td>\n",
       "      <td>210</td>\n",
       "      <td>...</td>\n",
       "      <td>235</td>\n",
       "      <td>234</td>\n",
       "      <td>233</td>\n",
       "      <td>231</td>\n",
       "      <td>230</td>\n",
       "      <td>226</td>\n",
       "      <td>225</td>\n",
       "      <td>222</td>\n",
       "      <td>229</td>\n",
       "      <td>163</td>\n",
       "    </tr>\n",
       "    <tr>\n",
       "      <th>4</th>\n",
       "      <td>12</td>\n",
       "      <td>164</td>\n",
       "      <td>167</td>\n",
       "      <td>170</td>\n",
       "      <td>172</td>\n",
       "      <td>176</td>\n",
       "      <td>179</td>\n",
       "      <td>180</td>\n",
       "      <td>184</td>\n",
       "      <td>185</td>\n",
       "      <td>...</td>\n",
       "      <td>92</td>\n",
       "      <td>105</td>\n",
       "      <td>105</td>\n",
       "      <td>108</td>\n",
       "      <td>133</td>\n",
       "      <td>163</td>\n",
       "      <td>157</td>\n",
       "      <td>163</td>\n",
       "      <td>164</td>\n",
       "      <td>179</td>\n",
       "    </tr>\n",
       "  </tbody>\n",
       "</table>\n",
       "<p>5 rows × 785 columns</p>\n",
       "</div>"
      ],
      "text/plain": [
       "   label  pixel1  pixel2  pixel3  pixel4  pixel5  pixel6  pixel7  pixel8  \\\n",
       "0      3     107     118     127     134     139     143     146     150   \n",
       "1      6     155     157     156     156     156     157     156     158   \n",
       "2      2     187     188     188     187     187     186     187     188   \n",
       "3      2     211     211     212     212     211     210     211     210   \n",
       "4     12     164     167     170     172     176     179     180     184   \n",
       "\n",
       "   pixel9  ...  pixel775  pixel776  pixel777  pixel778  pixel779  pixel780  \\\n",
       "0     153  ...       207       207       207       207       206       206   \n",
       "1     158  ...        69       149       128        87        94       163   \n",
       "2     187  ...       202       201       200       199       198       199   \n",
       "3     210  ...       235       234       233       231       230       226   \n",
       "4     185  ...        92       105       105       108       133       163   \n",
       "\n",
       "   pixel781  pixel782  pixel783  pixel784  \n",
       "0       206       204       203       202  \n",
       "1       175       103       135       149  \n",
       "2       198       195       194       195  \n",
       "3       225       222       229       163  \n",
       "4       157       163       164       179  \n",
       "\n",
       "[5 rows x 785 columns]"
      ]
     },
     "execution_count": 3,
     "metadata": {},
     "output_type": "execute_result"
    }
   ],
   "source": [
    "train_df.head()"
   ]
  },
  {
   "cell_type": "markdown",
   "metadata": {},
   "source": [
    "### Importar Images"
   ]
  },
  {
   "cell_type": "code",
   "execution_count": 4,
   "metadata": {},
   "outputs": [],
   "source": [
    "y_train = np.array(train_df['label'])\n",
    "y_val = np.array(valid_df['label'])\n",
    "del train_df['label']\n",
    "del valid_df['label']\n",
    "x_train = train_df.values.astype(np.float32)\n",
    "x_val = valid_df.values.astype(np.float32)"
   ]
  },
  {
   "cell_type": "code",
   "execution_count": 5,
   "metadata": {
    "code_folding": []
   },
   "outputs": [],
   "source": [
    "def split_val_test(x, y, pct=0.5, shuffle=True):\n",
    "    '''\n",
    "    Function to split the validation set into validation and test subsets.\n",
    "\n",
    "    Parameters:\n",
    "    - x: numpy array, features of the dataset.\n",
    "    - y: numpy array, corresponding labels.\n",
    "    - pct: float, the percentage of the dataset to be used for testing.\n",
    "    - shuffle: boolean, whether the data should be shuffled before splitting.\n",
    "\n",
    "    Returns:\n",
    "    - x_val: numpy array, validation subset of the features.\n",
    "    - y_val: numpy array, validation subset of the labels.\n",
    "    - x_test: numpy array, test subset of the features.\n",
    "    - y_test: numpy array, test subset of the labels.\n",
    "    '''\n",
    "    assert 0 < pct < 1, \"The percentage must be between 0 and 1\"\n",
    "    \n",
    "    # Shuffle the data if shuffle is True\n",
    "    if shuffle:\n",
    "        indices = np.arange(x.shape[0])\n",
    "        np.random.shuffle(indices)\n",
    "        x = x[indices]\n",
    "        y = y[indices]\n",
    "    \n",
    "    # Determine the size of the test subset\n",
    "    test_size = int(x.shape[0] * pct)\n",
    "    \n",
    "    # Split the dataset into validation and test subsets\n",
    "    x_test = x[:test_size]\n",
    "    y_test = y[:test_size]\n",
    "    x_val = x[test_size:]\n",
    "    y_val = y[test_size:]\n",
    "    \n",
    "    return x_val, y_val, x_test, y_test"
   ]
  },
  {
   "cell_type": "code",
   "execution_count": 6,
   "metadata": {},
   "outputs": [],
   "source": [
    "x_val, y_val, x_test, y_test = split_val_test(x_val, y_val)"
   ]
  },
  {
   "cell_type": "code",
   "execution_count": 7,
   "metadata": {},
   "outputs": [
    {
     "name": "stdout",
     "output_type": "stream",
     "text": [
      "24\n"
     ]
    }
   ],
   "source": [
    "### The following\n",
    "\n",
    "alphabet=list(string.ascii_lowercase)\n",
    "alphabet.remove('j')\n",
    "alphabet.remove('z')\n",
    "print(len(alphabet))"
   ]
  },
  {
   "cell_type": "markdown",
   "metadata": {},
   "source": [
    "### Normalise"
   ]
  },
  {
   "cell_type": "code",
   "execution_count": 8,
   "metadata": {},
   "outputs": [
    {
     "name": "stdout",
     "output_type": "stream",
     "text": [
      "Normalized Mean: 0.000004, Normalized Std: 0.999999\n"
     ]
    }
   ],
   "source": [
    "# Calculate the mean and standard deviation of the training data\n",
    "x_mean = x_train.mean()\n",
    "x_std = x_train.std()\n",
    "\n",
    "def normalise(x_mean, x_std, x_data):\n",
    "    \"\"\"\n",
    "    Normalize the input data using the provided mean and standard deviation.\n",
    "    \n",
    "    Parameters:\n",
    "    - x_mean: float, the mean of the dataset.\n",
    "    - x_std: float, the standard deviation of the dataset.\n",
    "    - x_data: numpy array, the data to be normalized.\n",
    "    \n",
    "    Returns:\n",
    "    - numpy array, the normalized data.\n",
    "    \"\"\"\n",
    "    return (x_data - x_mean) / x_std\n",
    "\n",
    "# Apply normalization to training, validation, and test datasets\n",
    "# Using the mean and std calculated from the training data\n",
    "x_train = normalise(x_mean, x_std, x_train)\n",
    "x_val = normalise(x_mean, x_std, x_val)\n",
    "x_test = normalise(x_mean, x_std, x_test)\n",
    "\n",
    "# Check the mean and standard deviation of the normalized training data\n",
    "normalized_mean = x_train.mean()\n",
    "normalized_std = x_train.std()\n",
    "\n",
    "# Print the results\n",
    "print(f\"Normalized Mean: {normalized_mean:.6f}, Normalized Std: {normalized_std:.6f}\")  # This should be approximately 0 and 1, respectively\n",
    "\n",
    "# Expected results\n",
    "expected_mean = np.float32(-2.4830147e-08)  # Close to 0\n",
    "expected_std = np.float32(1.0)  # Close to 1"
   ]
  },
  {
   "cell_type": "markdown",
   "metadata": {},
   "source": [
    "### Graficar muestras"
   ]
  },
  {
   "cell_type": "code",
   "execution_count": 9,
   "metadata": {},
   "outputs": [
    {
     "name": "stdout",
     "output_type": "stream",
     "text": [
      "The sampled image represents: h\n"
     ]
    },
    {
     "data": {
      "image/png": "[encoded data removed]",
      "text/plain": [
       "<Figure size 500x500 with 1 Axes>"
      ]
     },
     "metadata": {},
     "output_type": "display_data"
    }
   ],
   "source": [
    "# Function to plot a given image\n",
    "def plot_number(image):\n",
    "    plt.figure(figsize=(5, 5))  # Set the figure size\n",
    "    plt.imshow(image.squeeze(), cmap='gray')  # Display the image in grayscale\n",
    "    plt.axis('off')  # Turn off the axis to have a cleaner view\n",
    "    plt.show()  # Show the plotted image\n",
    "\n",
    "# Randomly sample an index from the test set\n",
    "rnd_idx = np.random.randint(len(y_test))  # Select a random index from the test labels\n",
    "print(f'The sampled image represents: {alphabet[y_test[rnd_idx]]}')  # Print the corresponding label by the Alphabet\n",
    "\n",
    "# Reshape the image if necessary from 784 to 28x28\n",
    "image_to_plot = x_test[rnd_idx].reshape(28, 28)  # Reshape to the correct dimensions for a 28x28 image\n",
    "\n",
    "# Plot the image corresponding to the randomly selected index from the test set\n",
    "plot_number(image_to_plot)  # Use the reshaped image to display\n"
   ]
  },
  {
   "cell_type": "raw",
   "metadata": {},
   "source": [
    "### Ecuaciones para nuestro modelo\n",
    "\n",
    "\n",
    "$$z^1 = W^1 X + b^1$$\n",
    "\n",
    "$$a^1 = ReLU(z^1) $$\n",
    "\n",
    "$$z^2 = W^2 a^1 + b^2$$\n",
    "\n",
    "$$\\hat{y} = \\frac{e^{z^{2_k}}}{\\sum_j{e^{z_j}}}$$\n",
    "\n",
    "\n",
    "$$ \\mathcal{L}(\\hat{y}^{i}, y^{i}) =  - y^{i}  \\ln(\\hat{y}^{i}) = -\\ln(\\hat{y}^i)$$\n",
    "\n",
    "\n",
    "$$ \\mathcal{J}(w, b) =  \\frac{1}{num\\_samples} \\sum_{i=1}^{num\\_samples}-\\ln(\\hat{y}^{i})$$"
   ]
  },
  {
   "cell_type": "markdown",
   "metadata": {},
   "source": [
    "### Funciones adicionales"
   ]
  },
  {
   "cell_type": "markdown",
   "metadata": {},
   "source": [
    "#### Mini batches"
   ]
  },
  {
   "cell_type": "code",
   "execution_count": 10,
   "metadata": {},
   "outputs": [],
   "source": [
    "def create_minibatches(mb_size, x, y, shuffle=True):\n",
    "    '''\n",
    "    Create mini-batches from the dataset.\n",
    "    \n",
    "    Parameters:\n",
    "    - mb_size: int, size of each mini-batch.\n",
    "    - x: numpy array, input data with shape (num_samples, 784).\n",
    "    - y: numpy array, labels corresponding to the input data with shape (num_samples, 1).\n",
    "    - shuffle: bool, whether to shuffle the data before creating mini-batches.\n",
    "    \n",
    "    Returns:\n",
    "    - A generator that yields mini-batches of (x_batch, y_batch).\n",
    "    '''\n",
    "    \n",
    "    # Assert that the number of samples in x and y are the same\n",
    "    assert x.shape[0] == y.shape[0], 'Error: Number of samples in x and y must be equal.'\n",
    "    \n",
    "    # Get the total number of samples in the dataset\n",
    "    total_data = x.shape[0]\n",
    "    \n",
    "    # If shuffle is True, shuffle the dataset\n",
    "    if shuffle: \n",
    "        idxs = np.arange(total_data)\n",
    "        np.random.shuffle(idxs)\n",
    "        x = x[idxs]\n",
    "        y = y[idxs]  \n",
    "    \n",
    "    # Generate mini-batches by slicing the dataset\n",
    "    return ((x[i:i + mb_size], y[i:i + mb_size]) for i in range(0, total_data, mb_size))\n"
   ]
  },
  {
   "cell_type": "code",
   "execution_count": 11,
   "metadata": {},
   "outputs": [],
   "source": [
    "def create_minibatches(mb_size, x, y, shuffle = True):\n",
    "    '''\n",
    "    x  #muestras, 784\n",
    "    y #muestras, 1\n",
    "    '''\n",
    "    assert x.shape[0] == y.shape[0], 'Error en cantidad de muestras'\n",
    "    total_data = x.shape[0]\n",
    "    if shuffle: \n",
    "        idxs = np.arange(total_data)\n",
    "        np.random.shuffle(idxs)\n",
    "        x = x[idxs]\n",
    "        y = y[idxs]  \n",
    "    return ((x[i:i+mb_size], y[i:i+mb_size]) for i in range(0, total_data, mb_size))"
   ]
  },
  {
   "cell_type": "markdown",
   "metadata": {},
   "source": [
    "## Nuestra clase Linear, ReLU y Sequential"
   ]
  },
  {
   "cell_type": "code",
   "execution_count": 12,
   "metadata": {},
   "outputs": [
    {
     "name": "stdout",
     "output_type": "stream",
     "text": [
      "Type of a: <class 'numpy.ndarray'>\n",
      "Type of b: <class '__main__.np_tensor'>\n",
      "a == b: [ True  True]\n",
      "a is b: False\n"
     ]
    }
   ],
   "source": [
    "import numpy as np\n",
    "\n",
    "class np_tensor(np.ndarray):\n",
    "    pass\n",
    "\n",
    "# Create a NumPy array and view it as a np_tensor\n",
    "a = np.array([0, 0])      # Create a standard NumPy array\n",
    "b = a.view(np_tensor)      # View 'a' as an instance of np_tensor\n",
    "\n",
    "# Check the types\n",
    "print(f'Type of a: {type(a)}')  # Should be numpy.ndarray\n",
    "print(f'Type of b: {type(b)}')  # Should be np_tensor\n",
    "\n",
    "# Check equality and reference\n",
    "print(f'a == b: {a == b}')  # Content comparison\n",
    "print(f'a is b: {a is b}')   # Reference comparison\n"
   ]
  },
  {
   "cell_type": "markdown",
   "metadata": {},
   "source": [
    "###  Clase Linear"
   ]
  },
  {
   "cell_type": "code",
   "execution_count": 13,
   "metadata": {},
   "outputs": [],
   "source": [
    "class Linear():\n",
    "    def __init__(self, input_size, output_size):\n",
    "        '''\n",
    "        Initialize parameters using He initialization for ReLU activation.\n",
    "        Parameters:\n",
    "        - input_size: Number of input features.\n",
    "        - output_size: Number of output features.\n",
    "        '''\n",
    "        self.W = (np.random.randn(output_size, input_size) / np.sqrt(input_size/2)).view(np_tensor)  # Weights\n",
    "        self.b = (np.zeros((output_size, 1))).view(np_tensor)  # Biases\n",
    "\n",
    "    def __call__(self, X):  # Forward pass\n",
    "        Z = self.W @ X + self.b  # Linear transformation\n",
    "        return Z\n",
    "\n",
    "    def backward(self, X, Z):\n",
    "        # Backward pass to compute gradients\n",
    "        X.grad = self.W.T @ Z.grad  # Gradient for input\n",
    "        self.W.grad = Z.grad @ X.T  # Gradient for weights\n",
    "        self.b.grad = np.sum(Z.grad, axis=1, keepdims=True)  # Gradient for bias\n"
   ]
  },
  {
   "cell_type": "markdown",
   "metadata": {},
   "source": [
    "### Clase ReLU"
   ]
  },
  {
   "cell_type": "code",
   "execution_count": 14,
   "metadata": {},
   "outputs": [],
   "source": [
    "class ReLU():\n",
    "    def __call__(self, Z):\n",
    "        # Forward pass using ReLU activation\n",
    "        return np.maximum(0, Z)\n",
    "\n",
    "    def backward(self, Z, A):\n",
    "        # Backward pass for ReLU\n",
    "        Z.grad = A.grad.copy()  # Gradient from the next layer\n",
    "        Z.grad[Z <= 0] = 0  # Set gradient to 0 for negative inputs\n"
   ]
  },
  {
   "cell_type": "markdown",
   "metadata": {},
   "source": [
    "### Clase Sequential"
   ]
  },
  {
   "cell_type": "code",
   "execution_count": 15,
   "metadata": {},
   "outputs": [],
   "source": [
    "class Sequential_layers():\n",
    "    def __init__(self, layers):\n",
    "        '''\n",
    "        Initialize the sequential model with layers.\n",
    "        Parameters:\n",
    "        - layers: List of layers (Linear, ReLU, etc.)\n",
    "        '''\n",
    "        self.layers = layers\n",
    "        self.x = None\n",
    "        self.outputs = {}\n",
    "\n",
    "    def __call__(self, X):\n",
    "        self.x = X\n",
    "        self.outputs['l0'] = self.x\n",
    "        for i, layer in enumerate(self.layers, 1):\n",
    "            self.x = layer(self.x)  # Forward pass through each layer\n",
    "            self.outputs['l'+str(i)] = self.x\n",
    "        return self.x\n",
    "\n",
    "    def backward(self):\n",
    "        for i in reversed(range(len(self.layers))):\n",
    "            self.layers[i].backward(self.outputs['l'+str(i)], self.outputs['l'+str(i+1)])  # Backward pass through layers\n",
    "\n",
    "    def update(self, learning_rate=1e-3):\n",
    "        for layer in self.layers:\n",
    "            if isinstance(layer, ReLU): \n",
    "                continue  # Skip updating ReLU layers\n",
    "            layer.W -= learning_rate * layer.W.grad  # Update weights\n",
    "            layer.b -= learning_rate * layer.b.grad  # Update biases\n",
    "\n",
    "    def predict(self, X):\n",
    "        return np.argmax(self.__call__(X))  # Get predicted class\n"
   ]
  },
  {
   "cell_type": "markdown",
   "metadata": {},
   "source": [
    "### Cost Function"
   ]
  },
  {
   "cell_type": "code",
   "execution_count": 16,
   "metadata": {},
   "outputs": [],
   "source": [
    "def softmaxXEntropy(x, y):\n",
    "    \"\"\"\n",
    "    Compute softmax and cross-entropy cost.\n",
    "\n",
    "    Parameters:\n",
    "    - x: Raw scores from the model (logits).\n",
    "    - y: True labels.\n",
    "\n",
    "    Returns:\n",
    "    - preds: Predicted probabilities for each class.\n",
    "    - cost: Average cross-entropy cost for the batch.\n",
    "    \"\"\"\n",
    "    batch_size = x.shape[1]  # Number of samples in the batch\n",
    "    exp_scores = np.exp(x)  # Exponentiate the scores\n",
    "    probs = exp_scores / exp_scores.sum(axis=0)  # Normalize to get probabilities\n",
    "\n",
    "    # Calculate the predicted probabilities for the true labels\n",
    "    y_hat = probs[y.squeeze(), np.arange(batch_size)]\n",
    "    cost = np.sum(-np.log(y_hat)) / batch_size  # Average cross-entropy cost\n",
    "\n",
    "    # Compute gradients for backpropagation\n",
    "    probs[y.squeeze(), np.arange(batch_size)] -= 1  # Gradient of the loss w.r.t logits\n",
    "    x.grad = probs.copy()  # Store gradients for backpropagation\n",
    "\n",
    "    return probs, cost\n"
   ]
  },
  {
   "cell_type": "markdown",
   "metadata": {},
   "source": [
    "### Loop de entrenamiento"
   ]
  },
  {
   "cell_type": "code",
   "execution_count": 17,
   "metadata": {},
   "outputs": [],
   "source": [
    "def train(model, epochs, mb_size=10, learning_rate=1e-3):\n",
    "    for epoch in range(epochs):\n",
    "        for i, (x, y) in enumerate(create_minibatches(mb_size, x_train, y_train)):\n",
    "            scores = model(x.T.view(np_tensor))  # Forward pass\n",
    "            _, cost = softmaxXEntropy(scores, y)  # Compute cost\n",
    "            model.backward()  # Backward pass\n",
    "            model.update(learning_rate)  # Update weights and biases\n",
    "        # Print cost and accuracy at the end of each epoch\n",
    "        print(f'Cost: {cost}, Accuracy: {accuracy(x_val, y_val, mb_size)}')\n",
    "\n",
    "def accuracy(x, y, mb_size):\n",
    "    correct = 0\n",
    "    total = 0\n",
    "    for i, (x, y) in enumerate(create_minibatches(mb_size, x, y)):\n",
    "        pred = model(x.T.view(np_tensor))  # Get predictions\n",
    "        correct += np.sum(np.argmax(pred, axis=0) == y.squeeze())  # Count correct predictions\n",
    "        total += pred.shape[1]  # Total predictions\n",
    "    return correct / total  # Return accuracy\n"
   ]
  },
  {
   "cell_type": "markdown",
   "metadata": {},
   "source": [
    "### Create your model and train it"
   ]
  },
  {
   "cell_type": "code",
   "execution_count": null,
   "metadata": {},
   "outputs": [
    {
     "name": "stdout",
     "output_type": "stream",
     "text": [
      "Training with mb_size: 32, learning_rate: 0.001, epochs: 50\n",
      "Cost: 0.027790029521071315, Accuracy: 0.7679866146123815\n",
      "Cost: 0.007928716780794296, Accuracy: 0.7744004461795873\n",
      "Cost: 0.0034714502750021418, Accuracy: 0.7799776910206359\n",
      "Cost: 0.00407875843844527, Accuracy: 0.783324037925265\n",
      "Cost: 0.0016199619994099529, Accuracy: 0.7855549358616843\n",
      "Cost: 0.0020748093395443552, Accuracy: 0.7875069715560513\n",
      "Cost: 0.0013634895099548924, Accuracy: 0.7891801450083659\n",
      "Cost: 0.0011306548793271298, Accuracy: 0.788622420524261\n",
      "Cost: 0.0006589738733075958, Accuracy: 0.7950362520914668\n",
      "Cost: 0.0009521283961976537, Accuracy: 0.790574456218628\n",
      "Cost: 0.0008026267649483288, Accuracy: 0.7897378694924707\n",
      "Cost: 0.0005495786967159461, Accuracy: 0.7880646960401562\n",
      "Cost: 0.0005297336412901128, Accuracy: 0.7891801450083659\n",
      "Cost: 0.0006933401395861607, Accuracy: 0.7914110429447853\n",
      "Cost: 0.0005453640066331839, Accuracy: 0.7894590072504183\n",
      "Cost: 0.00020989186888912604, Accuracy: 0.792526491912995\n",
      "Cost: 0.0006509310700216843, Accuracy: 0.7897378694924707\n",
      "Cost: 0.0005542466537386703, Accuracy: 0.7908533184606804\n",
      "Cost: 0.0003124420832503893, Accuracy: 0.7919687674288901\n",
      "Cost: 0.0005029113837942496, Accuracy: 0.7902955939765756\n",
      "Cost: 0.00034549185133436495, Accuracy: 0.7922476296709425\n",
      "Cost: 0.00020135843917682387, Accuracy: 0.790574456218628\n",
      "Cost: 0.00036110891926437357, Accuracy: 0.7894590072504183\n",
      "Cost: 0.00020042176325548933, Accuracy: 0.7900167317345231\n",
      "Cost: 0.00019828830244537077, Accuracy: 0.7902955939765756\n",
      "Cost: 0.0002726688916316651, Accuracy: 0.7911321807027328\n",
      "Cost: 0.0001946821517402727, Accuracy: 0.7908533184606804\n",
      "Cost: 0.00040453587303446945, Accuracy: 0.7914110429447853\n",
      "Cost: 0.0002819986951402846, Accuracy: 0.7916899051868377\n",
      "Cost: 0.0002728375088812494, Accuracy: 0.7911321807027328\n",
      "Cost: 0.00023338308798582632, Accuracy: 0.792526491912995\n",
      "Cost: 0.0002596362900894184, Accuracy: 0.792526491912995\n",
      "Cost: 0.0002472245795046657, Accuracy: 0.7914110429447853\n",
      "Cost: 0.00011599514256327583, Accuracy: 0.7916899051868377\n",
      "Cost: 0.0001317234735072209, Accuracy: 0.7916899051868377\n",
      "Cost: 0.00015191337152730848, Accuracy: 0.7914110429447853\n",
      "Cost: 0.000287616388699485, Accuracy: 0.7919687674288901\n",
      "Cost: 0.00020049358211847744, Accuracy: 0.7916899051868377\n",
      "Cost: 0.0001468394742934663, Accuracy: 0.792526491912995\n",
      "Cost: 0.00013210651512620116, Accuracy: 0.7933630786391522\n",
      "Cost: 0.00022300096307146784, Accuracy: 0.7936419408812047\n",
      "Cost: 9.857662462674776e-05, Accuracy: 0.7930842163970998\n",
      "Cost: 0.0001617984343370883, Accuracy: 0.7930842163970998\n",
      "Cost: 0.00015924814787726698, Accuracy: 0.7928053541550474\n",
      "Cost: 0.00016133432192516148, Accuracy: 0.7933630786391522\n",
      "Cost: 0.0001020472772304728, Accuracy: 0.7936419408812047\n",
      "Cost: 0.00019580208330831334, Accuracy: 0.7928053541550474\n",
      "Cost: 0.00015001579062786372, Accuracy: 0.7928053541550474\n",
      "Cost: 0.00012759311940113715, Accuracy: 0.7933630786391522\n",
      "Cost: 5.991963832575734e-05, Accuracy: 0.7933630786391522\n",
      "Training with mb_size: 64, learning_rate: 0.0001, epochs: 100\n",
      "Cost: 0.00013461026467556677, Accuracy: 0.7933630786391522\n",
      "Cost: 7.685639520841303e-05, Accuracy: 0.7936419408812047\n",
      "Cost: 0.00013964831589486826, Accuracy: 0.7933630786391522\n",
      "Cost: 0.0001324021014483381, Accuracy: 0.7933630786391522\n",
      "Cost: 0.00010867317574461682, Accuracy: 0.7933630786391522\n",
      "Cost: 9.302907561953623e-05, Accuracy: 0.7933630786391522\n",
      "Cost: 0.00011284072408682412, Accuracy: 0.7933630786391522\n",
      "Cost: 9.542958767235652e-05, Accuracy: 0.7933630786391522\n",
      "Cost: 9.879905146317464e-05, Accuracy: 0.7933630786391522\n",
      "Cost: 0.0001211139730978092, Accuracy: 0.7933630786391522\n",
      "Cost: 0.0002023974246661767, Accuracy: 0.7933630786391522\n",
      "Cost: 0.00019348216225141128, Accuracy: 0.7933630786391522\n",
      "Cost: 0.00011072150341124884, Accuracy: 0.7933630786391522\n",
      "Cost: 8.768834009687126e-05, Accuracy: 0.7933630786391522\n",
      "Cost: 6.444128072846433e-05, Accuracy: 0.7933630786391522\n",
      "Cost: 9.879725529591186e-05, Accuracy: 0.7933630786391522\n",
      "Cost: 0.0001456269975778403, Accuracy: 0.7933630786391522\n",
      "Cost: 0.00011084571996703366, Accuracy: 0.7933630786391522\n",
      "Cost: 0.0001203821574219479, Accuracy: 0.7933630786391522\n",
      "Cost: 0.00011041279472242105, Accuracy: 0.7933630786391522\n",
      "Cost: 0.0001943960310141591, Accuracy: 0.7933630786391522\n",
      "Cost: 0.0001065049343664114, Accuracy: 0.7933630786391522\n",
      "Cost: 9.86857462293242e-05, Accuracy: 0.7933630786391522\n",
      "Cost: 8.01184830291456e-05, Accuracy: 0.7933630786391522\n",
      "Cost: 0.00017165371896175712, Accuracy: 0.7933630786391522\n",
      "Cost: 0.00010247021758107113, Accuracy: 0.7933630786391522\n",
      "Cost: 0.00023610350768379367, Accuracy: 0.7933630786391522\n",
      "Cost: 0.00011348776469832909, Accuracy: 0.7933630786391522\n",
      "Cost: 0.00011454466315054681, Accuracy: 0.7933630786391522\n",
      "Cost: 0.00011991374041771732, Accuracy: 0.7933630786391522\n",
      "Cost: 0.00010870611914251825, Accuracy: 0.7933630786391522\n",
      "Cost: 0.00012042958862087716, Accuracy: 0.7933630786391522\n",
      "Cost: 7.214293243850591e-05, Accuracy: 0.7933630786391522\n",
      "Cost: 8.886684847454912e-05, Accuracy: 0.7933630786391522\n",
      "Cost: 0.00015767241812218065, Accuracy: 0.7933630786391522\n",
      "Cost: 8.630943948862899e-05, Accuracy: 0.7933630786391522\n",
      "Cost: 8.759589384734163e-05, Accuracy: 0.7933630786391522\n",
      "Cost: 0.00011393001916623815, Accuracy: 0.7933630786391522\n",
      "Cost: 9.982574240354786e-05, Accuracy: 0.7933630786391522\n",
      "Cost: 7.757165203848879e-05, Accuracy: 0.7933630786391522\n",
      "Cost: 0.0001355130463425932, Accuracy: 0.7933630786391522\n",
      "Cost: 0.00012753786260045273, Accuracy: 0.7933630786391522\n",
      "Cost: 0.00011827302493545661, Accuracy: 0.7933630786391522\n",
      "Cost: 9.45513969814497e-05, Accuracy: 0.7933630786391522\n",
      "Cost: 0.0001238248381845553, Accuracy: 0.7933630786391522\n",
      "Cost: 0.00012384982773428643, Accuracy: 0.7933630786391522\n",
      "Cost: 0.00015453755392606582, Accuracy: 0.7933630786391522\n",
      "Cost: 0.00011279697803245408, Accuracy: 0.7933630786391522\n",
      "Cost: 8.072114983197409e-05, Accuracy: 0.7933630786391522\n",
      "Cost: 0.00011650575686753239, Accuracy: 0.7933630786391522\n",
      "Cost: 0.00016109743711519202, Accuracy: 0.7933630786391522\n",
      "Cost: 9.295049816889654e-05, Accuracy: 0.7933630786391522\n",
      "Cost: 0.00014963866280524144, Accuracy: 0.7933630786391522\n",
      "Cost: 0.00011076757685018653, Accuracy: 0.7933630786391522\n",
      "Cost: 9.07527503520009e-05, Accuracy: 0.7933630786391522\n"
     ]
    }
   ],
   "source": [
    "model = Sequential_layers([\n",
    "    Linear(784, 512), ReLU(), \n",
    "    Linear(512, 256), ReLU(),\n",
    "    Linear(256, 64), ReLU(),\n",
    "    Linear(64, 24)\n",
    "])\n",
    "\n",
    "\n",
    "\n",
    "hyperparameter_configs = [\n",
    "    (32, 1e-3, 50),   # Minibatch pequeño, tasa de aprendizaje alta, pocas épocas\n",
    "    (64, 1e-4, 100),  # Minibatch medio, tasa de aprendizaje estándar, más épocas\n",
    "    (128, 1e-5, 150)  # Minibatch grande, tasa de aprendizaje baja, muchas épocas\n",
    "]\n",
    "\n",
    "# Iterar sobre cada configuración para entrenar el modelo\n",
    "for mb_size, learning_rate, epochs in hyperparameter_configs:\n",
    "    print(f\"Training with mb_size: {mb_size}, learning_rate: {learning_rate}, epochs: {epochs}\")\n",
    "    \n",
    "    # Entrenar el modelo con los parámetros especificados\n",
    "    train(model, mb_size=mb_size, learning_rate=learning_rate, epochs=epochs)\n"
   ]
  },
  {
   "cell_type": "markdown",
   "metadata": {},
   "source": [
    "### Test your model on Random data from your test set"
   ]
  },
  {
   "cell_type": "code",
   "execution_count": null,
   "metadata": {},
   "outputs": [],
   "source": [
    "idx = np.random.randint(len(y_test))\n",
    "plot_number(x_test[idx].reshape(28,28))\n",
    "pred = model.predict(x_test[idx].reshape(-1, 1))\n",
    "print(f'el valor predicho es: {alphabet[pred]} el valor real es:{alphabet[y_test[idx]]}')"
   ]
  },
  {
   "cell_type": "code",
   "execution_count": null,
   "metadata": {},
   "outputs": [],
   "source": []
  }
 ],
 "metadata": {
  "kernelspec": {
   "display_name": "Python 3 (ipykernel)",
   "language": "python",
   "name": "python3"
  },
  "language_info": {
   "codemirror_mode": {
    "name": "ipython",
    "version": 3
   },
   "file_extension": ".py",
   "mimetype": "text/x-python",
   "name": "python",
   "nbconvert_exporter": "python",
   "pygments_lexer": "ipython3",
   "version": "3.11.2"
  },
  "toc": {
   "base_numbering": 1,
   "nav_menu": {},
   "number_sections": true,
   "sideBar": true,
   "skip_h1_title": false,
   "title_cell": "Table of Contents",
   "title_sidebar": "Contents",
   "toc_cell": false,
   "toc_position": {},
   "toc_section_display": true,
   "toc_window_display": false
  },
  "varInspector": {
   "cols": {
    "lenName": 16,
    "lenType": 16,
    "lenVar": 40
   },
   "kernels_config": {
    "python": {
     "delete_cmd_postfix": "",
     "delete_cmd_prefix": "del ",
     "library": "var_list.py",
     "varRefreshCmd": "print(var_dic_list())"
    },
    "r": {
     "delete_cmd_postfix": ") ",
     "delete_cmd_prefix": "rm(",
     "library": "var_list.r",
     "varRefreshCmd": "cat(var_dic_list()) "
    }
   },
   "types_to_exclude": [
    "module",
    "function",
    "builtin_function_or_method",
    "instance",
    "_Feature"
   ],
   "window_display": false
  }
 },
 "nbformat": 4,
 "nbformat_minor": 4
}
